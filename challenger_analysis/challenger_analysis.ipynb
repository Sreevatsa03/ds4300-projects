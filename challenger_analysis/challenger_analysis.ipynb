{
 "cells": [
  {
   "attachments": {},
   "cell_type": "markdown",
   "metadata": {},
   "source": [
    "# Challenger Accident Analysis"
   ]
  },
  {
   "attachments": {},
   "cell_type": "markdown",
   "metadata": {},
   "source": [
    "## Imports"
   ]
  },
  {
   "cell_type": "code",
   "execution_count": 1,
   "metadata": {},
   "outputs": [
    {
     "name": "stderr",
     "output_type": "stream",
     "text": [
      "/Users/sree/anaconda3/lib/python3.9/site-packages/pyspark/pandas/__init__.py:49: UserWarning: 'PYARROW_IGNORE_TIMEZONE' environment variable was not set. It is required to set this environment variable to '1' in both driver and executor sides if you use pyarrow>=2.0.0. pandas-on-Spark will set it for you but it does not work if there is a Spark context already launched.\n",
      "  warnings.warn(\n"
     ]
    }
   ],
   "source": [
    "# import pyspark\n",
    "import pandas as pd\n",
    "from pyspark.sql import SparkSession\n",
    "import pyspark.pandas as ps\n",
    "from math import radians, sin, cos, asin, sqrt\n",
    "from pyspark.sql.functions import lit, expr, col, udf, sum, min, max\n",
    "import matplotlib.pyplot as plt"
   ]
  },
  {
   "attachments": {},
   "cell_type": "markdown",
   "metadata": {},
   "source": [
    "## Read and Filter Data"
   ]
  },
  {
   "cell_type": "code",
   "execution_count": 2,
   "metadata": {},
   "outputs": [
    {
     "name": "stdout",
     "output_type": "stream",
     "text": [
      "23/04/14 14:39:28 WARN Utils: Your hostname, Sreevatsas-Macbook-Pro.local resolves to a loopback address: 127.0.0.1; using 10.110.19.14 instead (on interface en0)\n",
      "23/04/14 14:39:28 WARN Utils: Set SPARK_LOCAL_IP if you need to bind to another address\n"
     ]
    },
    {
     "name": "stderr",
     "output_type": "stream",
     "text": [
      "Setting default log level to \"WARN\".\n",
      "To adjust logging level use sc.setLogLevel(newLevel). For SparkR, use setLogLevel(newLevel).\n"
     ]
    },
    {
     "name": "stdout",
     "output_type": "stream",
     "text": [
      "23/04/14 14:39:28 WARN NativeCodeLoader: Unable to load native-hadoop library for your platform... using builtin-java classes where applicable\n"
     ]
    }
   ],
   "source": [
    "# create spark session\n",
    "spark = SparkSession.builder.appName(\"Analysis of Challenger Accident\").getOrCreate()\n",
    "spark.conf.set(\"spark.sql.execution.arrow.pyspark.enabled\", \"true\")\n",
    "\n",
    "# read stations.csv into a spark df\n",
    "stations_df = spark.read.csv('stations.csv', header=False, inferSchema=True)\n",
    "\n",
    "# rename the columns\n",
    "stations_df = stations_df.withColumnRenamed('_c0', 'station_id').withColumnRenamed('_c1', 'wban_id').withColumnRenamed('_c2', 'latitude').withColumnRenamed('_c3', 'longitude')\n",
    "\n",
    "# drop the wban_id column\n",
    "stations_df = stations_df.drop('wban_id')\n",
    "\n",
    "# drop rows with null values\n",
    "stations_df = stations_df.dropna()\n",
    "\n",
    "# read temperature data from 1986.csv into a spark df\n",
    "temp_df = spark.read.csv('1986.csv', header=False, inferSchema=True)\n",
    "\n",
    "# rename the columns\n",
    "temp_df = temp_df.withColumnRenamed('_c0', 'station_id').withColumnRenamed('_c1', 'wban_id').withColumnRenamed('_c2', 'month').withColumnRenamed('_c3', 'day').withColumnRenamed('_c4', 'temp')\n",
    "\n",
    "# drop the wban_id column\n",
    "temp_df = temp_df.drop('wban_id')\n",
    "\n",
    "# drop rows with null values\n",
    "temp_df = temp_df.dropna()\n"
   ]
  },
  {
   "cell_type": "code",
   "execution_count": 3,
   "metadata": {},
   "outputs": [
    {
     "name": "stdout",
     "output_type": "stream",
     "text": [
      "+----------+-----+---+----+\n",
      "|station_id|month|day|temp|\n",
      "+----------+-----+---+----+\n",
      "|     10010|    1|  1|17.2|\n",
      "|     10010|    1|  2|12.1|\n",
      "|     10010|    1|  3|10.4|\n",
      "|     10010|    1|  4|17.4|\n",
      "|     10010|    1|  5|26.5|\n",
      "|     10010|    1|  6|30.1|\n",
      "|     10010|    1|  7|29.7|\n",
      "|     10010|    1|  8|29.6|\n",
      "|     10010|    1|  9|29.6|\n",
      "|     10010|    1| 10|33.0|\n",
      "|     10010|    1| 11|32.5|\n",
      "|     10010|    1| 12|27.4|\n",
      "|     10010|    1| 13|22.2|\n",
      "|     10010|    1| 14|11.3|\n",
      "|     10010|    1| 15| 2.5|\n",
      "|     10010|    1| 16| 3.0|\n",
      "|     10010|    1| 17|13.4|\n",
      "|     10010|    1| 18|29.8|\n",
      "|     10010|    1| 19|27.5|\n",
      "|     10010|    1| 20|25.2|\n",
      "+----------+-----+---+----+\n",
      "only showing top 20 rows\n",
      "\n"
     ]
    }
   ],
   "source": [
    "# show temp df\n",
    "temp_df.show()"
   ]
  },
  {
   "cell_type": "code",
   "execution_count": 4,
   "metadata": {},
   "outputs": [
    {
     "name": "stdout",
     "output_type": "stream",
     "text": [
      "+----------+--------+---------+\n",
      "|station_id|latitude|longitude|\n",
      "+----------+--------+---------+\n",
      "|      7018|     0.0|      0.0|\n",
      "|      7026|     0.0|      0.0|\n",
      "|      7070|     0.0|      0.0|\n",
      "|      8268|   32.95|   65.567|\n",
      "|      8307|     0.0|      0.0|\n",
      "|     10010|  70.933|   -8.667|\n",
      "|     10014|  59.792|    5.341|\n",
      "|     10015|  61.383|    5.867|\n",
      "|     10016|   64.85|   11.233|\n",
      "|     10017|   59.98|     2.25|\n",
      "|     10020|   80.05|    16.25|\n",
      "|     10030|    77.0|     15.5|\n",
      "|     10040|  78.917|   11.933|\n",
      "|     10050|  78.067|   13.633|\n",
      "|     10060|   78.25|   22.817|\n",
      "|     10070|  78.917|   11.933|\n",
      "|     10071|  78.217|   15.583|\n",
      "|     10080|  78.246|   15.466|\n",
      "|     10090|   80.65|     25.0|\n",
      "|     10100|  69.293|   16.144|\n",
      "+----------+--------+---------+\n",
      "only showing top 20 rows\n",
      "\n"
     ]
    }
   ],
   "source": [
    "# show stations df\n",
    "stations_df.show()"
   ]
  },
  {
   "cell_type": "code",
   "execution_count": 5,
   "metadata": {},
   "outputs": [
    {
     "name": "stdout",
     "output_type": "stream",
     "text": [
      "+----------+--------+---------+\n",
      "|station_id|latitude|longitude|\n",
      "+----------+--------+---------+\n",
      "|      8268|   32.95|   65.567|\n",
      "|     10010|  70.933|   -8.667|\n",
      "|     10014|  59.792|    5.341|\n",
      "|     10015|  61.383|    5.867|\n",
      "|     10016|   64.85|   11.233|\n",
      "|     10017|   59.98|     2.25|\n",
      "|     10020|   80.05|    16.25|\n",
      "|     10030|    77.0|     15.5|\n",
      "|     10040|  78.917|   11.933|\n",
      "|     10050|  78.067|   13.633|\n",
      "|     10060|   78.25|   22.817|\n",
      "|     10070|  78.917|   11.933|\n",
      "|     10071|  78.217|   15.583|\n",
      "|     10080|  78.246|   15.466|\n",
      "|     10090|   80.65|     25.0|\n",
      "|     10100|  69.293|   16.144|\n",
      "|     10110|  80.067|     31.5|\n",
      "|     10140|  69.233|     17.9|\n",
      "|     10150|    69.6|   17.833|\n",
      "|     10160|  78.933|     28.9|\n",
      "+----------+--------+---------+\n",
      "only showing top 20 rows\n",
      "\n"
     ]
    }
   ],
   "source": [
    "# remove rows with latitude and longitude values of 0\n",
    "stations_df = stations_df.filter(stations_df.latitude != 0)\n",
    "stations_df = stations_df.filter(stations_df.longitude != 0)\n",
    "\n",
    "# show stations df\n",
    "stations_df.show()"
   ]
  },
  {
   "attachments": {},
   "cell_type": "markdown",
   "metadata": {},
   "source": [
    "## Calculate Distance"
   ]
  },
  {
   "cell_type": "code",
   "execution_count": 6,
   "metadata": {},
   "outputs": [],
   "source": [
    "# spark udf to apply haversine formula across spark dataframe\n",
    "def haversine(lat1, lon1, lat2, lon2):\n",
    "    \"\"\"\n",
    "    Calculate the great circle distance between two points \n",
    "    on the earth (specified in decimal degrees)\n",
    "    \"\"\"\n",
    "    # convert decimal degrees to radians \n",
    "    lon1, lat1, lon2, lat2 = map(radians, [lon1, lat1, lon2, lat2])\n",
    "\n",
    "    # haversine formula \n",
    "    dlon = lon2 - lon1 \n",
    "    dlat = lat2 - lat1 \n",
    "    a = sin(dlat/2)**2 + cos(lat1) * cos(lat2) * sin(dlon/2)**2\n",
    "    c = 2 * asin(sqrt(a)) \n",
    "    r = 3956 # Radius of earth in kilometers. Use 6371 for miles\n",
    "    return c * r\n",
    "\n",
    "# register haversine function as a spark udf\n",
    "haversine_udf = udf(haversine)"
   ]
  },
  {
   "cell_type": "code",
   "execution_count": 7,
   "metadata": {},
   "outputs": [],
   "source": [
    "# cape canaveral coordinates\n",
    "cape_lat = 28.561944\n",
    "cape_lon = -80.577778\n",
    "\n",
    "# add distance column to stations df\n",
    "stations_df = stations_df.withColumn(\"distance\", haversine_udf(lit(cape_lat), lit(cape_lon), stations_df.latitude, stations_df.longitude))"
   ]
  },
  {
   "cell_type": "code",
   "execution_count": 8,
   "metadata": {},
   "outputs": [
    {
     "name": "stdout",
     "output_type": "stream",
     "text": [
      "+----------+--------+---------+-----------------+-----+---+----+\n",
      "|station_id|latitude|longitude|         distance|month|day|temp|\n",
      "+----------+--------+---------+-----------------+-----+---+----+\n",
      "|    722040|    28.1|   -80.65|32.19562863090903|    1|  1|65.0|\n",
      "|    722040|  28.101|  -80.644|32.07944208590801|    1|  1|65.0|\n",
      "|    722040|    28.1|   -80.65|32.19562863090903|    1|  2|67.1|\n",
      "|    722040|  28.101|  -80.644|32.07944208590801|    1|  2|67.1|\n",
      "|    722040|    28.1|   -80.65|32.19562863090903|    1|  3|64.5|\n",
      "|    722040|  28.101|  -80.644|32.07944208590801|    1|  3|64.5|\n",
      "|    722040|    28.1|   -80.65|32.19562863090903|    1|  4|67.6|\n",
      "|    722040|  28.101|  -80.644|32.07944208590801|    1|  4|67.6|\n",
      "|    722040|    28.1|   -80.65|32.19562863090903|    1|  5|63.0|\n",
      "|    722040|  28.101|  -80.644|32.07944208590801|    1|  5|63.0|\n",
      "|    722040|    28.1|   -80.65|32.19562863090903|    1|  6|51.0|\n",
      "|    722040|  28.101|  -80.644|32.07944208590801|    1|  6|51.0|\n",
      "|    722040|    28.1|   -80.65|32.19562863090903|    1|  7|64.1|\n",
      "|    722040|  28.101|  -80.644|32.07944208590801|    1|  7|64.1|\n",
      "|    722040|    28.1|   -80.65|32.19562863090903|    1|  8|63.5|\n",
      "|    722040|  28.101|  -80.644|32.07944208590801|    1|  8|63.5|\n",
      "|    722040|    28.1|   -80.65|32.19562863090903|    1|  9|65.3|\n",
      "|    722040|  28.101|  -80.644|32.07944208590801|    1|  9|65.3|\n",
      "|    722040|    28.1|   -80.65|32.19562863090903|    1| 10|68.7|\n",
      "|    722040|  28.101|  -80.644|32.07944208590801|    1| 10|68.7|\n",
      "+----------+--------+---------+-----------------+-----+---+----+\n",
      "only showing top 20 rows\n",
      "\n"
     ]
    }
   ],
   "source": [
    "# filter stations df to only include stations within 100 km of cape canaveral\n",
    "stations_df = stations_df.filter(stations_df.distance <= 100)\n",
    "\n",
    "# filter for only the month of january\n",
    "temp_df = temp_df.filter(temp_df.month == 1)\n",
    "\n",
    "# join stations df with temp df\n",
    "stations_temp_df = stations_df.join(temp_df, stations_df.station_id == temp_df.station_id, how='inner').drop(temp_df.station_id)\n",
    "\n",
    "# show stations_temp_df\n",
    "stations_temp_df.show()\n"
   ]
  },
  {
   "cell_type": "code",
   "execution_count": 9,
   "metadata": {},
   "outputs": [
    {
     "name": "stdout",
     "output_type": "stream",
     "text": [
      "+----------+--------+---------+-----------------+-----+---+----+\n",
      "|station_id|latitude|longitude|         distance|month|day|temp|\n",
      "+----------+--------+---------+-----------------+-----+---+----+\n",
      "|    722040|    28.1|   -80.65|32.19562863090903|    1|  1|65.0|\n",
      "|    722040|    28.1|   -80.65|32.19562863090903|    1|  2|67.1|\n",
      "|    722040|    28.1|   -80.65|32.19562863090903|    1|  3|64.5|\n",
      "|    722040|    28.1|   -80.65|32.19562863090903|    1|  4|67.6|\n",
      "|    722040|    28.1|   -80.65|32.19562863090903|    1|  5|63.0|\n",
      "|    722040|    28.1|   -80.65|32.19562863090903|    1|  6|51.0|\n",
      "|    722040|    28.1|   -80.65|32.19562863090903|    1|  7|64.1|\n",
      "|    722040|    28.1|   -80.65|32.19562863090903|    1|  8|63.5|\n",
      "|    722040|    28.1|   -80.65|32.19562863090903|    1|  9|65.3|\n",
      "|    722040|    28.1|   -80.65|32.19562863090903|    1| 10|68.7|\n",
      "|    722040|    28.1|   -80.65|32.19562863090903|    1| 11|63.1|\n",
      "|    722040|    28.1|   -80.65|32.19562863090903|    1| 12|56.0|\n",
      "|    722040|    28.1|   -80.65|32.19562863090903|    1| 13|54.9|\n",
      "|    722040|    28.1|   -80.65|32.19562863090903|    1| 14|49.6|\n",
      "|    722040|    28.1|   -80.65|32.19562863090903|    1| 15|50.4|\n",
      "|    722040|    28.1|   -80.65|32.19562863090903|    1| 16|57.0|\n",
      "|    722040|    28.1|   -80.65|32.19562863090903|    1| 17|66.6|\n",
      "|    722040|    28.1|   -80.65|32.19562863090903|    1| 18|63.4|\n",
      "|    722040|    28.1|   -80.65|32.19562863090903|    1| 19|65.7|\n",
      "|    722040|    28.1|   -80.65|32.19562863090903|    1| 20|57.9|\n",
      "+----------+--------+---------+-----------------+-----+---+----+\n",
      "only showing top 20 rows\n",
      "\n"
     ]
    }
   ],
   "source": [
    "# drop row if it has same station_id and day\n",
    "stations_temp_df = stations_temp_df.dropDuplicates(['station_id', 'day'])\n",
    "\n",
    "# show stations_temp_df\n",
    "stations_temp_df.show()"
   ]
  },
  {
   "attachments": {},
   "cell_type": "markdown",
   "metadata": {},
   "source": [
    "## Estimate Temperature"
   ]
  },
  {
   "cell_type": "code",
   "execution_count": 10,
   "metadata": {},
   "outputs": [
    {
     "name": "stdout",
     "output_type": "stream",
     "text": [
      "+---+------------------+------------------+------------------+\n",
      "|day|      sum_inv_dist| sum_weighted_temp|          est_temp|\n",
      "+---+------------------+------------------+------------------+\n",
      "| 31|0.3932614029823372|21.936263184893484|  55.7803614047492|\n",
      "| 28|0.3932614029823372|13.519942378470471|34.379021881986475|\n",
      "| 26|0.3804368143441904|21.730360587676554| 57.11949992309779|\n",
      "| 27|0.3932614029823372| 17.98650840307548|45.736775250947574|\n",
      "| 12|0.3932614029823372|  22.1510896459328|56.326630271742395|\n",
      "| 22|0.3932614029823372|22.775833047255162|57.915251470224014|\n",
      "|  1|0.3804368143441904| 23.48138713186139|  61.7221736869482|\n",
      "| 13|0.3932614029823372|21.237736802880146|54.004122046612366|\n",
      "|  6|0.3932614029823372| 20.33033065417926| 51.69673530125805|\n",
      "| 16|0.3932614029823372|22.341354529660535| 56.81044302907084|\n",
      "|  3|0.3932614029823372|24.798405553802223| 63.05832549480074|\n",
      "| 20|0.3804368143441904|21.671307514114766| 56.96427553014942|\n",
      "|  5|0.3804368143441904|22.836044112900332|60.025852524987265|\n",
      "| 19|0.3804368143441904|24.305760119679213| 63.88908539668614|\n",
      "| 15|0.3932614029823372|20.384976318894104|51.835690368550274|\n",
      "|  9|0.3932614029823372|24.579455849261695|62.501571887962896|\n",
      "| 17|0.3932614029823372|24.872999277869408|63.248005243439934|\n",
      "|  4|0.3932614029823372|25.870948138692896|  65.7856274287229|\n",
      "|  8|0.3932614029823372|23.776323268112655|60.459335922118285|\n",
      "| 23|0.3932614029823372|23.426093533829544|59.568758480174814|\n",
      "+---+------------------+------------------+------------------+\n",
      "only showing top 20 rows\n",
      "\n"
     ]
    }
   ],
   "source": [
    "# find inverse distances for each station near cape canaveral\n",
    "stations_temp_df = stations_temp_df.withColumn(\"inv_dist\", 1 / stations_temp_df.distance)\n",
    "\n",
    "# find weighted temperatures for each day from each station\n",
    "stations_temp_df = stations_temp_df.withColumn(\"weighted_temp\", stations_temp_df.inv_dist * stations_temp_df.temp)\n",
    "\n",
    "# new dataframe with sum of inverse distances and weights for each day of january\n",
    "stations_temp_df_jan = stations_temp_df.groupBy('day').agg(sum('inv_dist').alias('sum_inv_dist'), sum('weighted_temp').alias('sum_weighted_temp'))\n",
    "\n",
    "# final weighted temperature readings for each day of january\n",
    "stations_temp_df_jan = stations_temp_df_jan.withColumn(\"est_temp\", stations_temp_df_jan.sum_weighted_temp / stations_temp_df_jan.sum_inv_dist)\n",
    "\n",
    "# show stations_temp_df_jan\n",
    "stations_temp_df_jan.show()\n"
   ]
  },
  {
   "cell_type": "code",
   "execution_count": 11,
   "metadata": {},
   "outputs": [
    {
     "name": "stdout",
     "output_type": "stream",
     "text": [
      "Estimated temperature for the January 28th at Cape Canaveral: 34.38 degrees Fahrenheit.\n"
     ]
    }
   ],
   "source": [
    "# use collect() to get the data from the spark dataframe for 28th day of january\n",
    "stations_temp_df_jan_28 = stations_temp_df_jan.filter(stations_temp_df_jan.day == 28).collect()\n",
    "\n",
    "# print the estimated temperature for the 28th day of january\n",
    "print(\"Estimated temperature for the January 28th at Cape Canaveral: \" + str(round(stations_temp_df_jan_28[0].est_temp, 2)) + \" degrees Fahrenheit.\")"
   ]
  },
  {
   "cell_type": "code",
   "execution_count": 12,
   "metadata": {},
   "outputs": [
    {
     "name": "stdout",
     "output_type": "stream",
     "text": [
      "+---+------------------+------------------+------------------+\n",
      "|day|      sum_inv_dist| sum_weighted_temp|          est_temp|\n",
      "+---+------------------+------------------+------------------+\n",
      "|  1|0.3804368143441904| 23.48138713186139|  61.7221736869482|\n",
      "|  2|0.3932614029823372|25.335728433423153| 64.42465047748678|\n",
      "|  3|0.3932614029823372|24.798405553802223| 63.05832549480074|\n",
      "|  4|0.3932614029823372|25.870948138692896|  65.7856274287229|\n",
      "|  5|0.3804368143441904|22.836044112900332|60.025852524987265|\n",
      "|  6|0.3932614029823372| 20.33033065417926| 51.69673530125805|\n",
      "|  7|0.3932614029823372|23.662427201896932|60.169716688316086|\n",
      "|  8|0.3932614029823372|23.776323268112655|60.459335922118285|\n",
      "|  9|0.3932614029823372|24.579455849261695|62.501571887962896|\n",
      "| 10|0.3932614029823372| 25.70919068996335| 65.37430445753164|\n",
      "| 11|0.3804368143441904| 22.13566184843075| 58.18485754747194|\n",
      "| 12|0.3932614029823372|  22.1510896459328|56.326630271742395|\n",
      "| 13|0.3932614029823372|21.237736802880146|54.004122046612366|\n",
      "| 14|0.3932614029823372|19.439767675467618| 49.43217800690379|\n",
      "| 15|0.3932614029823372|20.384976318894104|51.835690368550274|\n",
      "| 16|0.3932614029823372|22.341354529660535| 56.81044302907084|\n",
      "| 17|0.3932614029823372|24.872999277869408|63.248005243439934|\n",
      "| 18|0.3804368143441904|23.644795006855652|62.151700664446295|\n",
      "| 19|0.3804368143441904|24.305760119679213| 63.88908539668614|\n",
      "| 20|0.3804368143441904|21.671307514114766| 56.96427553014942|\n",
      "+---+------------------+------------------+------------------+\n",
      "only showing top 20 rows\n",
      "\n"
     ]
    }
   ],
   "source": [
    "# sort stations_temp_df_jan by day\n",
    "stations_temp_df_jan = stations_temp_df_jan.sort('day')\n",
    "\n",
    "# show stations_temp_df\n",
    "stations_temp_df_jan.show()"
   ]
  },
  {
   "cell_type": "code",
   "execution_count": 13,
   "metadata": {},
   "outputs": [],
   "source": [
    "# convert day column to list with collect()\n",
    "day_list = stations_temp_df_jan.select('day').collect()\n",
    "\n",
    "# convert est_temp column to list with collect()\n",
    "est_temp_list = stations_temp_df_jan.select('est_temp').collect()\n",
    "\n",
    "# convert day_list to list of integers\n",
    "day_list = [int(day.day) for day in day_list]\n",
    "\n",
    "# convert est_temp_list to list of floats\n",
    "est_temp_list = [float(temp.est_temp) for temp in est_temp_list]\n"
   ]
  },
  {
   "attachments": {},
   "cell_type": "markdown",
   "metadata": {},
   "source": [
    "## Plot Temperature"
   ]
  },
  {
   "cell_type": "code",
   "execution_count": 14,
   "metadata": {},
   "outputs": [
    {
     "data": {
      "image/png": "[encoded data removed]",
      "text/plain": [
       "<Figure size 640x480 with 1 Axes>"
      ]
     },
     "metadata": {},
     "output_type": "display_data"
    }
   ],
   "source": [
    "# plot the estimated temperatures for each day of january\n",
    "plt.plot(day_list, est_temp_list, color='red', marker='o', linestyle='dashed', linewidth=2, markersize=5)\n",
    "plt.xlabel('Day of January')\n",
    "plt.ylabel('Estimated Temperature (F)')\n",
    "plt.title('Estimated Temperatures at Cape Canaveral during January 1986')\n",
    "plt.show()"
   ]
  },
  {
   "attachments": {},
   "cell_type": "markdown",
   "metadata": {},
   "source": [
    "## Analysis"
   ]
  },
  {
   "attachments": {},
   "cell_type": "markdown",
   "metadata": {},
   "source": [
    "On January 28th, the temperature at Cape Canaveral was at its lowest. The effect of the temperature on the launch led to the failed launch and subsequent explosion. The volatility of th temperature at the launch site is a major factor in the failure of the launch. If NASA had waited until the 30th, the temperature would have been much higher and the launch would probably have been successful. The weather at the launch site is a major factor in the success of the launch."
   ]
  }
 ],
 "metadata": {
  "kernelspec": {
   "display_name": "base",
   "language": "python",
   "name": "python3"
  },
  "language_info": {
   "codemirror_mode": {
    "name": "ipython",
    "version": 3
   },
   "file_extension": ".py",
   "mimetype": "text/x-python",
   "name": "python",
   "nbconvert_exporter": "python",
   "pygments_lexer": "ipython3",
   "version": "3.9.7"
  },
  "orig_nbformat": 4
 },
 "nbformat": 4,
 "nbformat_minor": 2
}

{
 "cells": [
  {
   "attachments": {},
   "cell_type": "markdown",
   "metadata": {},
   "source": [
    "# Working with Document Stores"
   ]
  },
  {
   "cell_type": "code",
   "execution_count": 1,
   "metadata": {},
   "outputs": [],
   "source": [
    "# imports\n",
    "import pymongo\n",
    "import pandas as pd\n",
    "from plotly.subplots import make_subplots\n",
    "import plotly.express as px\n",
    "import plotly.graph_objects as go\n",
    "import seaborn as sns\n",
    "import matplotlib.pyplot as plt\n"
   ]
  },
  {
   "attachments": {},
   "cell_type": "markdown",
   "metadata": {},
   "source": [
    "## Connect to Mongo"
   ]
  },
  {
   "cell_type": "code",
   "execution_count": 2,
   "metadata": {},
   "outputs": [],
   "source": [
    "# connect to mongo\n",
    "client = pymongo.MongoClient(\"mongodb://127.0.0.1:27017/\")\n",
    "\n",
    "# connect to mars database\n",
    "db = client[\"mars\"]\n",
    "\n",
    "# connect to weather collection\n",
    "collection = db[\"weather\"]\n"
   ]
  },
  {
   "attachments": {},
   "cell_type": "markdown",
   "metadata": {},
   "source": [
    "## Tutorial\n",
    "\n",
    "*Query is first line of code in cell*\\\n",
    "*Output shown as head of dataframe or printed statement*"
   ]
  },
  {
   "attachments": {},
   "cell_type": "markdown",
   "metadata": {},
   "source": [
    "### Q1. What are the ten most recent observations?"
   ]
  },
  {
   "cell_type": "code",
   "execution_count": 3,
   "metadata": {},
   "outputs": [
    {
     "data": {
      "text/html": [
       "<div>\n",
       "<style scoped>\n",
       "    .dataframe tbody tr th:only-of-type {\n",
       "        vertical-align: middle;\n",
       "    }\n",
       "\n",
       "    .dataframe tbody tr th {\n",
       "        vertical-align: top;\n",
       "    }\n",
       "\n",
       "    .dataframe thead th {\n",
       "        text-align: right;\n",
       "    }\n",
       "</style>\n",
       "<table border=\"1\" class=\"dataframe\">\n",
       "  <thead>\n",
       "    <tr style=\"text-align: right;\">\n",
       "      <th></th>\n",
       "      <th>id</th>\n",
       "      <th>terrestrial_date</th>\n",
       "      <th>sol</th>\n",
       "      <th>ls</th>\n",
       "      <th>season</th>\n",
       "      <th>min_temp</th>\n",
       "      <th>max_temp</th>\n",
       "      <th>pressure</th>\n",
       "      <th>wind_speed</th>\n",
       "      <th>atmo_opacity</th>\n",
       "    </tr>\n",
       "  </thead>\n",
       "  <tbody>\n",
       "    <tr>\n",
       "      <th>0</th>\n",
       "      <td>3476</td>\n",
       "      <td>2022-11-25</td>\n",
       "      <td>3663</td>\n",
       "      <td>344</td>\n",
       "      <td>Month 12</td>\n",
       "      <td>-72</td>\n",
       "      <td>-44</td>\n",
       "      <td>817</td>\n",
       "      <td>None</td>\n",
       "      <td>Sunny</td>\n",
       "    </tr>\n",
       "    <tr>\n",
       "      <th>1</th>\n",
       "      <td>3474</td>\n",
       "      <td>2022-11-24</td>\n",
       "      <td>3662</td>\n",
       "      <td>343</td>\n",
       "      <td>Month 12</td>\n",
       "      <td>-72</td>\n",
       "      <td>-9</td>\n",
       "      <td>800</td>\n",
       "      <td>None</td>\n",
       "      <td>Sunny</td>\n",
       "    </tr>\n",
       "    <tr>\n",
       "      <th>2</th>\n",
       "      <td>3478</td>\n",
       "      <td>2022-11-23</td>\n",
       "      <td>3661</td>\n",
       "      <td>342</td>\n",
       "      <td>Month 12</td>\n",
       "      <td>-73</td>\n",
       "      <td>-8</td>\n",
       "      <td>797</td>\n",
       "      <td>None</td>\n",
       "      <td>Sunny</td>\n",
       "    </tr>\n",
       "    <tr>\n",
       "      <th>3</th>\n",
       "      <td>3477</td>\n",
       "      <td>2022-11-22</td>\n",
       "      <td>3660</td>\n",
       "      <td>342</td>\n",
       "      <td>Month 12</td>\n",
       "      <td>-72</td>\n",
       "      <td>-10</td>\n",
       "      <td>798</td>\n",
       "      <td>None</td>\n",
       "      <td>Sunny</td>\n",
       "    </tr>\n",
       "    <tr>\n",
       "      <th>4</th>\n",
       "      <td>3479</td>\n",
       "      <td>2022-11-21</td>\n",
       "      <td>3659</td>\n",
       "      <td>341</td>\n",
       "      <td>Month 12</td>\n",
       "      <td>-72</td>\n",
       "      <td>-12</td>\n",
       "      <td>798</td>\n",
       "      <td>None</td>\n",
       "      <td>Sunny</td>\n",
       "    </tr>\n",
       "    <tr>\n",
       "      <th>5</th>\n",
       "      <td>3475</td>\n",
       "      <td>2022-11-20</td>\n",
       "      <td>3658</td>\n",
       "      <td>341</td>\n",
       "      <td>Month 12</td>\n",
       "      <td>-71</td>\n",
       "      <td>-16</td>\n",
       "      <td>798</td>\n",
       "      <td>None</td>\n",
       "      <td>Sunny</td>\n",
       "    </tr>\n",
       "    <tr>\n",
       "      <th>6</th>\n",
       "      <td>3472</td>\n",
       "      <td>2022-11-19</td>\n",
       "      <td>3657</td>\n",
       "      <td>340</td>\n",
       "      <td>Month 12</td>\n",
       "      <td>-71</td>\n",
       "      <td>-6</td>\n",
       "      <td>797</td>\n",
       "      <td>None</td>\n",
       "      <td>Sunny</td>\n",
       "    </tr>\n",
       "    <tr>\n",
       "      <th>7</th>\n",
       "      <td>3471</td>\n",
       "      <td>2022-11-18</td>\n",
       "      <td>3656</td>\n",
       "      <td>340</td>\n",
       "      <td>Month 12</td>\n",
       "      <td>-70</td>\n",
       "      <td>-8</td>\n",
       "      <td>800</td>\n",
       "      <td>None</td>\n",
       "      <td>Sunny</td>\n",
       "    </tr>\n",
       "    <tr>\n",
       "      <th>8</th>\n",
       "      <td>3473</td>\n",
       "      <td>2022-11-17</td>\n",
       "      <td>3655</td>\n",
       "      <td>339</td>\n",
       "      <td>Month 12</td>\n",
       "      <td>-70</td>\n",
       "      <td>-7</td>\n",
       "      <td>797</td>\n",
       "      <td>None</td>\n",
       "      <td>Sunny</td>\n",
       "    </tr>\n",
       "    <tr>\n",
       "      <th>9</th>\n",
       "      <td>3470</td>\n",
       "      <td>2022-11-16</td>\n",
       "      <td>3654</td>\n",
       "      <td>339</td>\n",
       "      <td>Month 12</td>\n",
       "      <td>-70</td>\n",
       "      <td>-8</td>\n",
       "      <td>796</td>\n",
       "      <td>None</td>\n",
       "      <td>Sunny</td>\n",
       "    </tr>\n",
       "  </tbody>\n",
       "</table>\n",
       "</div>"
      ],
      "text/plain": [
       "     id terrestrial_date   sol   ls    season  min_temp  max_temp  pressure  \\\n",
       "0  3476       2022-11-25  3663  344  Month 12       -72       -44       817   \n",
       "1  3474       2022-11-24  3662  343  Month 12       -72        -9       800   \n",
       "2  3478       2022-11-23  3661  342  Month 12       -73        -8       797   \n",
       "3  3477       2022-11-22  3660  342  Month 12       -72       -10       798   \n",
       "4  3479       2022-11-21  3659  341  Month 12       -72       -12       798   \n",
       "5  3475       2022-11-20  3658  341  Month 12       -71       -16       798   \n",
       "6  3472       2022-11-19  3657  340  Month 12       -71        -6       797   \n",
       "7  3471       2022-11-18  3656  340  Month 12       -70        -8       800   \n",
       "8  3473       2022-11-17  3655  339  Month 12       -70        -7       797   \n",
       "9  3470       2022-11-16  3654  339  Month 12       -70        -8       796   \n",
       "\n",
       "  wind_speed atmo_opacity  \n",
       "0       None        Sunny  \n",
       "1       None        Sunny  \n",
       "2       None        Sunny  \n",
       "3       None        Sunny  \n",
       "4       None        Sunny  \n",
       "5       None        Sunny  \n",
       "6       None        Sunny  \n",
       "7       None        Sunny  \n",
       "8       None        Sunny  \n",
       "9       None        Sunny  "
      ]
     },
     "execution_count": 3,
     "metadata": {},
     "output_type": "execute_result"
    }
   ],
   "source": [
    "# query the collection for data sorted by terrestrial_date descending and limit to 10\n",
    "data = collection.find().sort(\"terrestrial_date\", -1).limit(10)\n",
    "\n",
    "# create a dataframe from the data\n",
    "df = pd.DataFrame(data)\n",
    "\n",
    "# drop the _id column\n",
    "df.drop(columns=[\"_id\"], inplace=True)\n",
    "\n",
    "# show the dataframe\n",
    "df.head(100)\n"
   ]
  },
  {
   "attachments": {},
   "cell_type": "markdown",
   "metadata": {},
   "source": [
    "### Q2. What are the most recent observations where the difference in temperature between the min and max temperature is greater than 80 degrees?"
   ]
  },
  {
   "cell_type": "code",
   "execution_count": 4,
   "metadata": {},
   "outputs": [
    {
     "data": {
      "text/html": [
       "<div>\n",
       "<style scoped>\n",
       "    .dataframe tbody tr th:only-of-type {\n",
       "        vertical-align: middle;\n",
       "    }\n",
       "\n",
       "    .dataframe tbody tr th {\n",
       "        vertical-align: top;\n",
       "    }\n",
       "\n",
       "    .dataframe thead th {\n",
       "        text-align: right;\n",
       "    }\n",
       "</style>\n",
       "<table border=\"1\" class=\"dataframe\">\n",
       "  <thead>\n",
       "    <tr style=\"text-align: right;\">\n",
       "      <th></th>\n",
       "      <th>id</th>\n",
       "      <th>terrestrial_date</th>\n",
       "      <th>sol</th>\n",
       "      <th>ls</th>\n",
       "      <th>season</th>\n",
       "      <th>min_temp</th>\n",
       "      <th>max_temp</th>\n",
       "      <th>pressure</th>\n",
       "      <th>wind_speed</th>\n",
       "      <th>atmo_opacity</th>\n",
       "    </tr>\n",
       "  </thead>\n",
       "  <tbody>\n",
       "    <tr>\n",
       "      <th>0</th>\n",
       "      <td>2851</td>\n",
       "      <td>2021-01-04</td>\n",
       "      <td>2991</td>\n",
       "      <td>342</td>\n",
       "      <td>Month 12</td>\n",
       "      <td>-100</td>\n",
       "      <td>-4</td>\n",
       "      <td>813</td>\n",
       "      <td>None</td>\n",
       "      <td>Sunny</td>\n",
       "    </tr>\n",
       "    <tr>\n",
       "      <th>1</th>\n",
       "      <td>2704</td>\n",
       "      <td>2020-08-06</td>\n",
       "      <td>2844</td>\n",
       "      <td>252</td>\n",
       "      <td>Month 9</td>\n",
       "      <td>-99</td>\n",
       "      <td>-1</td>\n",
       "      <td>889</td>\n",
       "      <td>None</td>\n",
       "      <td>Sunny</td>\n",
       "    </tr>\n",
       "    <tr>\n",
       "      <th>2</th>\n",
       "      <td>2665</td>\n",
       "      <td>2020-06-27</td>\n",
       "      <td>2805</td>\n",
       "      <td>227</td>\n",
       "      <td>Month 8</td>\n",
       "      <td>-99</td>\n",
       "      <td>1</td>\n",
       "      <td>859</td>\n",
       "      <td>None</td>\n",
       "      <td>Sunny</td>\n",
       "    </tr>\n",
       "    <tr>\n",
       "      <th>3</th>\n",
       "      <td>2666</td>\n",
       "      <td>2020-06-25</td>\n",
       "      <td>2803</td>\n",
       "      <td>225</td>\n",
       "      <td>Month 8</td>\n",
       "      <td>-100</td>\n",
       "      <td>1</td>\n",
       "      <td>854</td>\n",
       "      <td>None</td>\n",
       "      <td>Sunny</td>\n",
       "    </tr>\n",
       "    <tr>\n",
       "      <th>4</th>\n",
       "      <td>1991</td>\n",
       "      <td>2018-06-06</td>\n",
       "      <td>2073</td>\n",
       "      <td>187</td>\n",
       "      <td>Month 7</td>\n",
       "      <td>-74</td>\n",
       "      <td>7</td>\n",
       "      <td>756</td>\n",
       "      <td>None</td>\n",
       "      <td>Sunny</td>\n",
       "    </tr>\n",
       "    <tr>\n",
       "      <th>5</th>\n",
       "      <td>1361</td>\n",
       "      <td>2016-08-25</td>\n",
       "      <td>1441</td>\n",
       "      <td>210</td>\n",
       "      <td>Month 8</td>\n",
       "      <td>-74</td>\n",
       "      <td>10</td>\n",
       "      <td>828</td>\n",
       "      <td>None</td>\n",
       "      <td>Sunny</td>\n",
       "    </tr>\n",
       "    <tr>\n",
       "      <th>6</th>\n",
       "      <td>1333</td>\n",
       "      <td>2016-07-26</td>\n",
       "      <td>1412</td>\n",
       "      <td>192</td>\n",
       "      <td>Month 7</td>\n",
       "      <td>-78</td>\n",
       "      <td>4</td>\n",
       "      <td>784</td>\n",
       "      <td>None</td>\n",
       "      <td>Sunny</td>\n",
       "    </tr>\n",
       "    <tr>\n",
       "      <th>7</th>\n",
       "      <td>706</td>\n",
       "      <td>2014-09-29</td>\n",
       "      <td>763</td>\n",
       "      <td>204</td>\n",
       "      <td>Month 7</td>\n",
       "      <td>-78</td>\n",
       "      <td>6</td>\n",
       "      <td>817</td>\n",
       "      <td>None</td>\n",
       "      <td>Sunny</td>\n",
       "    </tr>\n",
       "    <tr>\n",
       "      <th>8</th>\n",
       "      <td>703</td>\n",
       "      <td>2014-09-28</td>\n",
       "      <td>762</td>\n",
       "      <td>203</td>\n",
       "      <td>Month 7</td>\n",
       "      <td>-75</td>\n",
       "      <td>7</td>\n",
       "      <td>814</td>\n",
       "      <td>None</td>\n",
       "      <td>Sunny</td>\n",
       "    </tr>\n",
       "    <tr>\n",
       "      <th>9</th>\n",
       "      <td>704</td>\n",
       "      <td>2014-09-25</td>\n",
       "      <td>760</td>\n",
       "      <td>202</td>\n",
       "      <td>Month 7</td>\n",
       "      <td>-70</td>\n",
       "      <td>11</td>\n",
       "      <td>810</td>\n",
       "      <td>None</td>\n",
       "      <td>Sunny</td>\n",
       "    </tr>\n",
       "    <tr>\n",
       "      <th>10</th>\n",
       "      <td>702</td>\n",
       "      <td>2014-09-24</td>\n",
       "      <td>759</td>\n",
       "      <td>201</td>\n",
       "      <td>Month 7</td>\n",
       "      <td>-77</td>\n",
       "      <td>8</td>\n",
       "      <td>809</td>\n",
       "      <td>None</td>\n",
       "      <td>Sunny</td>\n",
       "    </tr>\n",
       "    <tr>\n",
       "      <th>11</th>\n",
       "      <td>698</td>\n",
       "      <td>2014-09-18</td>\n",
       "      <td>753</td>\n",
       "      <td>198</td>\n",
       "      <td>Month 7</td>\n",
       "      <td>-73</td>\n",
       "      <td>8</td>\n",
       "      <td>800</td>\n",
       "      <td>None</td>\n",
       "      <td>Sunny</td>\n",
       "    </tr>\n",
       "    <tr>\n",
       "      <th>12</th>\n",
       "      <td>661</td>\n",
       "      <td>2014-08-12</td>\n",
       "      <td>717</td>\n",
       "      <td>176</td>\n",
       "      <td>Month 6</td>\n",
       "      <td>-76</td>\n",
       "      <td>5</td>\n",
       "      <td>756</td>\n",
       "      <td>None</td>\n",
       "      <td>Sunny</td>\n",
       "    </tr>\n",
       "  </tbody>\n",
       "</table>\n",
       "</div>"
      ],
      "text/plain": [
       "      id terrestrial_date   sol   ls    season  min_temp  max_temp  pressure  \\\n",
       "0   2851       2021-01-04  2991  342  Month 12      -100        -4       813   \n",
       "1   2704       2020-08-06  2844  252   Month 9       -99        -1       889   \n",
       "2   2665       2020-06-27  2805  227   Month 8       -99         1       859   \n",
       "3   2666       2020-06-25  2803  225   Month 8      -100         1       854   \n",
       "4   1991       2018-06-06  2073  187   Month 7       -74         7       756   \n",
       "5   1361       2016-08-25  1441  210   Month 8       -74        10       828   \n",
       "6   1333       2016-07-26  1412  192   Month 7       -78         4       784   \n",
       "7    706       2014-09-29   763  204   Month 7       -78         6       817   \n",
       "8    703       2014-09-28   762  203   Month 7       -75         7       814   \n",
       "9    704       2014-09-25   760  202   Month 7       -70        11       810   \n",
       "10   702       2014-09-24   759  201   Month 7       -77         8       809   \n",
       "11   698       2014-09-18   753  198   Month 7       -73         8       800   \n",
       "12   661       2014-08-12   717  176   Month 6       -76         5       756   \n",
       "\n",
       "   wind_speed atmo_opacity  \n",
       "0        None        Sunny  \n",
       "1        None        Sunny  \n",
       "2        None        Sunny  \n",
       "3        None        Sunny  \n",
       "4        None        Sunny  \n",
       "5        None        Sunny  \n",
       "6        None        Sunny  \n",
       "7        None        Sunny  \n",
       "8        None        Sunny  \n",
       "9        None        Sunny  \n",
       "10       None        Sunny  \n",
       "11       None        Sunny  \n",
       "12       None        Sunny  "
      ]
     },
     "execution_count": 4,
     "metadata": {},
     "output_type": "execute_result"
    }
   ],
   "source": [
    "# query the collection for where the difference between the max and min temperature is greater than 80\n",
    "data = collection.find({\"$expr\": {\"$gt\": [{\"$subtract\": [\"$max_temp\", \"$min_temp\"]}, 80]}}).sort(\"terrestrial_date\", -1)\n",
    "\n",
    "# create a dataframe from the data\n",
    "df = pd.DataFrame(data)\n",
    "\n",
    "# drop the _id column\n",
    "df.drop(columns=[\"_id\"], inplace=True)\n",
    "\n",
    "# show df\n",
    "df.head(100)"
   ]
  },
  {
   "attachments": {},
   "cell_type": "markdown",
   "metadata": {},
   "source": [
    "### Q3. How many observations recorded a wind speed?"
   ]
  },
  {
   "cell_type": "code",
   "execution_count": 5,
   "metadata": {},
   "outputs": [
    {
     "name": "stdout",
     "output_type": "stream",
     "text": [
      "There are 0 observations where wind speed was recorded.\n"
     ]
    }
   ],
   "source": [
    "# query the collection for number of observations where wind speed is not \"None\"\n",
    "data = collection.count_documents({\"wind_speed\": {\"$ne\": None}})\n",
    "\n",
    "# print the number of observations\n",
    "print(\"There are \" + str(data) + \" observations where wind speed was recorded.\")\n"
   ]
  },
  {
   "attachments": {},
   "cell_type": "markdown",
   "metadata": {},
   "source": [
    "### Q4. How many observations are recorded for each Martian month?"
   ]
  },
  {
   "cell_type": "code",
   "execution_count": 6,
   "metadata": {},
   "outputs": [
    {
     "data": {
      "text/html": [
       "<div>\n",
       "<style scoped>\n",
       "    .dataframe tbody tr th:only-of-type {\n",
       "        vertical-align: middle;\n",
       "    }\n",
       "\n",
       "    .dataframe tbody tr th {\n",
       "        vertical-align: top;\n",
       "    }\n",
       "\n",
       "    .dataframe thead th {\n",
       "        text-align: right;\n",
       "    }\n",
       "</style>\n",
       "<table border=\"1\" class=\"dataframe\">\n",
       "  <thead>\n",
       "    <tr style=\"text-align: right;\">\n",
       "      <th></th>\n",
       "      <th>Martian month</th>\n",
       "      <th>count</th>\n",
       "    </tr>\n",
       "  </thead>\n",
       "  <tbody>\n",
       "    <tr>\n",
       "      <th>0</th>\n",
       "      <td>Month 4</td>\n",
       "      <td>318</td>\n",
       "    </tr>\n",
       "    <tr>\n",
       "      <th>1</th>\n",
       "      <td>Month 3</td>\n",
       "      <td>308</td>\n",
       "    </tr>\n",
       "    <tr>\n",
       "      <th>2</th>\n",
       "      <td>Month 5</td>\n",
       "      <td>286</td>\n",
       "    </tr>\n",
       "    <tr>\n",
       "      <th>3</th>\n",
       "      <td>Month 6</td>\n",
       "      <td>266</td>\n",
       "    </tr>\n",
       "    <tr>\n",
       "      <th>4</th>\n",
       "      <td>Month 2</td>\n",
       "      <td>255</td>\n",
       "    </tr>\n",
       "    <tr>\n",
       "      <th>5</th>\n",
       "      <td>Month 11</td>\n",
       "      <td>245</td>\n",
       "    </tr>\n",
       "    <tr>\n",
       "      <th>6</th>\n",
       "      <td>Month 1</td>\n",
       "      <td>243</td>\n",
       "    </tr>\n",
       "    <tr>\n",
       "      <th>7</th>\n",
       "      <td>Month 7</td>\n",
       "      <td>239</td>\n",
       "    </tr>\n",
       "    <tr>\n",
       "      <th>8</th>\n",
       "      <td>Month 8</td>\n",
       "      <td>232</td>\n",
       "    </tr>\n",
       "    <tr>\n",
       "      <th>9</th>\n",
       "      <td>Month 12</td>\n",
       "      <td>224</td>\n",
       "    </tr>\n",
       "    <tr>\n",
       "      <th>10</th>\n",
       "      <td>Month 10</td>\n",
       "      <td>224</td>\n",
       "    </tr>\n",
       "    <tr>\n",
       "      <th>11</th>\n",
       "      <td>Month 9</td>\n",
       "      <td>196</td>\n",
       "    </tr>\n",
       "  </tbody>\n",
       "</table>\n",
       "</div>"
      ],
      "text/plain": [
       "   Martian month  count\n",
       "0        Month 4    318\n",
       "1        Month 3    308\n",
       "2        Month 5    286\n",
       "3        Month 6    266\n",
       "4        Month 2    255\n",
       "5       Month 11    245\n",
       "6        Month 1    243\n",
       "7        Month 7    239\n",
       "8        Month 8    232\n",
       "9       Month 12    224\n",
       "10      Month 10    224\n",
       "11       Month 9    196"
      ]
     },
     "execution_count": 6,
     "metadata": {},
     "output_type": "execute_result"
    }
   ],
   "source": [
    "# query the collection for number of observations recorded per season\n",
    "data = collection.aggregate([\n",
    "    {\"$group\": {\"_id\": \"$season\", \"count\": {\"$sum\": 1}}},\n",
    "    {\"$sort\": {\"count\": -1}}\n",
    "])\n",
    "\n",
    "# create a dataframe from the data\n",
    "df = pd.DataFrame(data)\n",
    "\n",
    "# rename the _id column to Martian month\n",
    "df.rename(columns={\"_id\": \"Martian month\"}, inplace=True)\n",
    "\n",
    "# show df\n",
    "df.head(100)"
   ]
  },
  {
   "attachments": {},
   "cell_type": "markdown",
   "metadata": {},
   "source": [
    "### Q5. What is the average temperature for each observation?"
   ]
  },
  {
   "cell_type": "code",
   "execution_count": 7,
   "metadata": {},
   "outputs": [
    {
     "data": {
      "text/html": [
       "<div>\n",
       "<style scoped>\n",
       "    .dataframe tbody tr th:only-of-type {\n",
       "        vertical-align: middle;\n",
       "    }\n",
       "\n",
       "    .dataframe tbody tr th {\n",
       "        vertical-align: top;\n",
       "    }\n",
       "\n",
       "    .dataframe thead th {\n",
       "        text-align: right;\n",
       "    }\n",
       "</style>\n",
       "<table border=\"1\" class=\"dataframe\">\n",
       "  <thead>\n",
       "    <tr style=\"text-align: right;\">\n",
       "      <th></th>\n",
       "      <th>terrestrial_date</th>\n",
       "      <th>season</th>\n",
       "      <th>min_temp</th>\n",
       "      <th>max_temp</th>\n",
       "      <th>avg_temp</th>\n",
       "    </tr>\n",
       "  </thead>\n",
       "  <tbody>\n",
       "    <tr>\n",
       "      <th>0</th>\n",
       "      <td>2022-11-25</td>\n",
       "      <td>Month 12</td>\n",
       "      <td>-72.0</td>\n",
       "      <td>-44.0</td>\n",
       "      <td>-58.0</td>\n",
       "    </tr>\n",
       "    <tr>\n",
       "      <th>1</th>\n",
       "      <td>2022-11-24</td>\n",
       "      <td>Month 12</td>\n",
       "      <td>-72.0</td>\n",
       "      <td>-9.0</td>\n",
       "      <td>-40.5</td>\n",
       "    </tr>\n",
       "    <tr>\n",
       "      <th>2</th>\n",
       "      <td>2022-11-23</td>\n",
       "      <td>Month 12</td>\n",
       "      <td>-73.0</td>\n",
       "      <td>-8.0</td>\n",
       "      <td>-40.5</td>\n",
       "    </tr>\n",
       "    <tr>\n",
       "      <th>3</th>\n",
       "      <td>2022-11-22</td>\n",
       "      <td>Month 12</td>\n",
       "      <td>-72.0</td>\n",
       "      <td>-10.0</td>\n",
       "      <td>-41.0</td>\n",
       "    </tr>\n",
       "    <tr>\n",
       "      <th>4</th>\n",
       "      <td>2022-11-21</td>\n",
       "      <td>Month 12</td>\n",
       "      <td>-72.0</td>\n",
       "      <td>-12.0</td>\n",
       "      <td>-42.0</td>\n",
       "    </tr>\n",
       "    <tr>\n",
       "      <th>5</th>\n",
       "      <td>2022-11-20</td>\n",
       "      <td>Month 12</td>\n",
       "      <td>-71.0</td>\n",
       "      <td>-16.0</td>\n",
       "      <td>-43.5</td>\n",
       "    </tr>\n",
       "    <tr>\n",
       "      <th>6</th>\n",
       "      <td>2022-11-19</td>\n",
       "      <td>Month 12</td>\n",
       "      <td>-71.0</td>\n",
       "      <td>-6.0</td>\n",
       "      <td>-38.5</td>\n",
       "    </tr>\n",
       "    <tr>\n",
       "      <th>7</th>\n",
       "      <td>2022-11-18</td>\n",
       "      <td>Month 12</td>\n",
       "      <td>-70.0</td>\n",
       "      <td>-8.0</td>\n",
       "      <td>-39.0</td>\n",
       "    </tr>\n",
       "    <tr>\n",
       "      <th>8</th>\n",
       "      <td>2022-11-17</td>\n",
       "      <td>Month 12</td>\n",
       "      <td>-70.0</td>\n",
       "      <td>-7.0</td>\n",
       "      <td>-38.5</td>\n",
       "    </tr>\n",
       "    <tr>\n",
       "      <th>9</th>\n",
       "      <td>2022-11-16</td>\n",
       "      <td>Month 12</td>\n",
       "      <td>-70.0</td>\n",
       "      <td>-8.0</td>\n",
       "      <td>-39.0</td>\n",
       "    </tr>\n",
       "  </tbody>\n",
       "</table>\n",
       "</div>"
      ],
      "text/plain": [
       "  terrestrial_date    season  min_temp  max_temp  avg_temp\n",
       "0       2022-11-25  Month 12     -72.0     -44.0     -58.0\n",
       "1       2022-11-24  Month 12     -72.0      -9.0     -40.5\n",
       "2       2022-11-23  Month 12     -73.0      -8.0     -40.5\n",
       "3       2022-11-22  Month 12     -72.0     -10.0     -41.0\n",
       "4       2022-11-21  Month 12     -72.0     -12.0     -42.0\n",
       "5       2022-11-20  Month 12     -71.0     -16.0     -43.5\n",
       "6       2022-11-19  Month 12     -71.0      -6.0     -38.5\n",
       "7       2022-11-18  Month 12     -70.0      -8.0     -39.0\n",
       "8       2022-11-17  Month 12     -70.0      -7.0     -38.5\n",
       "9       2022-11-16  Month 12     -70.0      -8.0     -39.0"
      ]
     },
     "execution_count": 7,
     "metadata": {},
     "output_type": "execute_result"
    }
   ],
   "source": [
    "# avg_temp that is the average of the max and min temperature; include terrestrial_date, season, min_temp, max_temp\n",
    "data = collection.aggregate([\n",
    "    {\"$project\": {\"terrestrial_date\": 1, \"season\": 1, \"min_temp\": 1, \"max_temp\": 1, \"avg_temp\": {\"$avg\": [\"$min_temp\", \"$max_temp\"]}}},\n",
    "    {\"$sort\": {\"terrestrial_date\": -1}}\n",
    "])\n",
    "\n",
    "# create a dataframe from the data\n",
    "df = pd.DataFrame(data).drop(columns=[\"_id\"])\n",
    "\n",
    "# show df\n",
    "df.head(10)"
   ]
  },
  {
   "attachments": {},
   "cell_type": "markdown",
   "metadata": {},
   "source": [
    "### Q6. What is the average temperature for each Martian month?"
   ]
  },
  {
   "cell_type": "code",
   "execution_count": 8,
   "metadata": {},
   "outputs": [
    {
     "data": {
      "text/html": [
       "<div>\n",
       "<style scoped>\n",
       "    .dataframe tbody tr th:only-of-type {\n",
       "        vertical-align: middle;\n",
       "    }\n",
       "\n",
       "    .dataframe tbody tr th {\n",
       "        vertical-align: top;\n",
       "    }\n",
       "\n",
       "    .dataframe thead th {\n",
       "        text-align: right;\n",
       "    }\n",
       "</style>\n",
       "<table border=\"1\" class=\"dataframe\">\n",
       "  <thead>\n",
       "    <tr style=\"text-align: right;\">\n",
       "      <th></th>\n",
       "      <th>Martian month</th>\n",
       "      <th>avg_temp</th>\n",
       "    </tr>\n",
       "  </thead>\n",
       "  <tbody>\n",
       "    <tr>\n",
       "      <th>0</th>\n",
       "      <td>Month 8</td>\n",
       "      <td>-35.530172</td>\n",
       "    </tr>\n",
       "    <tr>\n",
       "      <th>1</th>\n",
       "      <td>Month 9</td>\n",
       "      <td>-36.645408</td>\n",
       "    </tr>\n",
       "    <tr>\n",
       "      <th>2</th>\n",
       "      <td>Month 7</td>\n",
       "      <td>-36.736402</td>\n",
       "    </tr>\n",
       "    <tr>\n",
       "      <th>3</th>\n",
       "      <td>Month 10</td>\n",
       "      <td>-37.103139</td>\n",
       "    </tr>\n",
       "    <tr>\n",
       "      <th>4</th>\n",
       "      <td>Month 11</td>\n",
       "      <td>-38.523013</td>\n",
       "    </tr>\n",
       "    <tr>\n",
       "      <th>5</th>\n",
       "      <td>Month 6</td>\n",
       "      <td>-39.830827</td>\n",
       "    </tr>\n",
       "    <tr>\n",
       "      <th>6</th>\n",
       "      <td>Month 12</td>\n",
       "      <td>-41.810268</td>\n",
       "    </tr>\n",
       "    <tr>\n",
       "      <th>7</th>\n",
       "      <td>Month 5</td>\n",
       "      <td>-46.117133</td>\n",
       "    </tr>\n",
       "    <tr>\n",
       "      <th>8</th>\n",
       "      <td>Month 1</td>\n",
       "      <td>-46.300412</td>\n",
       "    </tr>\n",
       "    <tr>\n",
       "      <th>9</th>\n",
       "      <td>Month 2</td>\n",
       "      <td>-51.058824</td>\n",
       "    </tr>\n",
       "    <tr>\n",
       "      <th>10</th>\n",
       "      <td>Month 4</td>\n",
       "      <td>-53.199686</td>\n",
       "    </tr>\n",
       "    <tr>\n",
       "      <th>11</th>\n",
       "      <td>Month 3</td>\n",
       "      <td>-54.663961</td>\n",
       "    </tr>\n",
       "  </tbody>\n",
       "</table>\n",
       "</div>"
      ],
      "text/plain": [
       "   Martian month   avg_temp\n",
       "0        Month 8 -35.530172\n",
       "1        Month 9 -36.645408\n",
       "2        Month 7 -36.736402\n",
       "3       Month 10 -37.103139\n",
       "4       Month 11 -38.523013\n",
       "5        Month 6 -39.830827\n",
       "6       Month 12 -41.810268\n",
       "7        Month 5 -46.117133\n",
       "8        Month 1 -46.300412\n",
       "9        Month 2 -51.058824\n",
       "10       Month 4 -53.199686\n",
       "11       Month 3 -54.663961"
      ]
     },
     "execution_count": 8,
     "metadata": {},
     "output_type": "execute_result"
    }
   ],
   "source": [
    "# query the collection for the average temperature per season\n",
    "data = collection.aggregate([\n",
    "    {\"$project\": {\"season\": 1, \"avg_temp\": {\"$avg\": [\"$min_temp\", \"$max_temp\"]}}},\n",
    "    {\"$group\": {\"_id\": \"$season\", \"avg_temp\": {\"$avg\": \"$avg_temp\"}}},\n",
    "    {\"$sort\": {\"avg_temp\": -1}}\n",
    "])\n",
    "\n",
    "# create a dataframe from the data\n",
    "df = pd.DataFrame(data)\n",
    "\n",
    "# rename the _id column to Martian month\n",
    "df.rename(columns={\"_id\": \"Martian month\"}, inplace=True)\n",
    "\n",
    "# show df\n",
    "df.head(100)"
   ]
  },
  {
   "attachments": {},
   "cell_type": "markdown",
   "metadata": {},
   "source": [
    "### Q7. What is the average temperature during significant solar events (autumnal equinox, winter solstice, spring equinox, and summer solstice)?"
   ]
  },
  {
   "cell_type": "code",
   "execution_count": 9,
   "metadata": {},
   "outputs": [
    {
     "data": {
      "text/html": [
       "<div>\n",
       "<style scoped>\n",
       "    .dataframe tbody tr th:only-of-type {\n",
       "        vertical-align: middle;\n",
       "    }\n",
       "\n",
       "    .dataframe tbody tr th {\n",
       "        vertical-align: top;\n",
       "    }\n",
       "\n",
       "    .dataframe thead th {\n",
       "        text-align: right;\n",
       "    }\n",
       "</style>\n",
       "<table border=\"1\" class=\"dataframe\">\n",
       "  <thead>\n",
       "    <tr style=\"text-align: right;\">\n",
       "      <th></th>\n",
       "      <th>ls (solar longitude)</th>\n",
       "      <th>event</th>\n",
       "      <th>avg_temp</th>\n",
       "    </tr>\n",
       "  </thead>\n",
       "  <tbody>\n",
       "    <tr>\n",
       "      <th>0</th>\n",
       "      <td>0</td>\n",
       "      <td>Autumnal Equinox</td>\n",
       "      <td>-43.375000</td>\n",
       "    </tr>\n",
       "    <tr>\n",
       "      <th>1</th>\n",
       "      <td>90</td>\n",
       "      <td>Winter Solstice</td>\n",
       "      <td>-55.454545</td>\n",
       "    </tr>\n",
       "    <tr>\n",
       "      <th>2</th>\n",
       "      <td>180</td>\n",
       "      <td>Spring Equinox</td>\n",
       "      <td>-36.000000</td>\n",
       "    </tr>\n",
       "    <tr>\n",
       "      <th>3</th>\n",
       "      <td>270</td>\n",
       "      <td>Summer Solstice</td>\n",
       "      <td>-36.428571</td>\n",
       "    </tr>\n",
       "  </tbody>\n",
       "</table>\n",
       "</div>"
      ],
      "text/plain": [
       "   ls (solar longitude)             event   avg_temp\n",
       "0                     0  Autumnal Equinox -43.375000\n",
       "1                    90   Winter Solstice -55.454545\n",
       "2                   180    Spring Equinox -36.000000\n",
       "3                   270   Summer Solstice -36.428571"
      ]
     },
     "execution_count": 9,
     "metadata": {},
     "output_type": "execute_result"
    }
   ],
   "source": [
    "# query collection for average temperature where ls is 0, 90, 180, or 270\n",
    "data = collection.aggregate([\n",
    "    {\"$match\": {\"ls\": {\"$in\": [0, 90, 180, 270]}}},\n",
    "    {\"$project\": {\"ls\": 1, \"avg_temp\": {\"$avg\": [\"$min_temp\", \"$max_temp\"]}}},\n",
    "    {\"$group\": {\"_id\": \"$ls\", \"avg_temp\": {\"$avg\": \"$avg_temp\"}}},\n",
    "    {\"$sort\": {\"_id\": 1}}\n",
    "])\n",
    "\n",
    "# create a dataframe from the data\n",
    "df = pd.DataFrame(data)\n",
    "\n",
    "# rename the _id column to ls\n",
    "df.rename(columns={\"_id\": \"ls (solar longitude)\"}, inplace=True)\n",
    "\n",
    "# new column for name of event\n",
    "df[\"event\"] = [\"Autumnal Equinox\", \"Winter Solstice\", \"Spring Equinox\", \"Summer Solstice\"]\n",
    "\n",
    "# reorder columns\n",
    "df = df[[\"ls (solar longitude)\", \"event\", \"avg_temp\"]]\n",
    "\n",
    "# show df\n",
    "df.head()"
   ]
  },
  {
   "attachments": {},
   "cell_type": "markdown",
   "metadata": {},
   "source": [
    "### Q8. What weather conditions have been observed on Mars, and how many times did they occur?"
   ]
  },
  {
   "cell_type": "code",
   "execution_count": 10,
   "metadata": {},
   "outputs": [
    {
     "data": {
      "text/html": [
       "<div>\n",
       "<style scoped>\n",
       "    .dataframe tbody tr th:only-of-type {\n",
       "        vertical-align: middle;\n",
       "    }\n",
       "\n",
       "    .dataframe tbody tr th {\n",
       "        vertical-align: top;\n",
       "    }\n",
       "\n",
       "    .dataframe thead th {\n",
       "        text-align: right;\n",
       "    }\n",
       "</style>\n",
       "<table border=\"1\" class=\"dataframe\">\n",
       "  <thead>\n",
       "    <tr style=\"text-align: right;\">\n",
       "      <th></th>\n",
       "      <th>atmo_opacity (weather condition)</th>\n",
       "      <th>count</th>\n",
       "    </tr>\n",
       "  </thead>\n",
       "  <tbody>\n",
       "    <tr>\n",
       "      <th>0</th>\n",
       "      <td>Sunny</td>\n",
       "      <td>3033</td>\n",
       "    </tr>\n",
       "    <tr>\n",
       "      <th>1</th>\n",
       "      <td>--</td>\n",
       "      <td>3</td>\n",
       "    </tr>\n",
       "  </tbody>\n",
       "</table>\n",
       "</div>"
      ],
      "text/plain": [
       "  atmo_opacity (weather condition)  count\n",
       "0                            Sunny   3033\n",
       "1                               --      3"
      ]
     },
     "execution_count": 10,
     "metadata": {},
     "output_type": "execute_result"
    }
   ],
   "source": [
    "# query collection for what values exist for atmospheric opacity and how many times they occur\n",
    "data = collection.aggregate([\n",
    "    {\"$group\": {\"_id\": \"$atmo_opacity\", \"count\": {\"$sum\": 1}}},\n",
    "    {\"$sort\": {\"count\": -1}}\n",
    "])\n",
    "\n",
    "# create a dataframe from the data\n",
    "df = pd.DataFrame(data)\n",
    "\n",
    "# rename the _id column to atmo_opacity\n",
    "df.rename(columns={\"_id\": \"atmo_opacity (weather condition)\"}, inplace=True)\n",
    "\n",
    "# show df \n",
    "df.head()\n"
   ]
  },
  {
   "attachments": {},
   "cell_type": "markdown",
   "metadata": {},
   "source": [
    "### Q9. What is the average pressure (and temperature) per Martian month?"
   ]
  },
  {
   "cell_type": "code",
   "execution_count": 11,
   "metadata": {},
   "outputs": [
    {
     "data": {
      "text/html": [
       "<div>\n",
       "<style scoped>\n",
       "    .dataframe tbody tr th:only-of-type {\n",
       "        vertical-align: middle;\n",
       "    }\n",
       "\n",
       "    .dataframe tbody tr th {\n",
       "        vertical-align: top;\n",
       "    }\n",
       "\n",
       "    .dataframe thead th {\n",
       "        text-align: right;\n",
       "    }\n",
       "</style>\n",
       "<table border=\"1\" class=\"dataframe\">\n",
       "  <thead>\n",
       "    <tr style=\"text-align: right;\">\n",
       "      <th></th>\n",
       "      <th>Martian month</th>\n",
       "      <th>avg_pressure</th>\n",
       "      <th>avg_temp</th>\n",
       "    </tr>\n",
       "  </thead>\n",
       "  <tbody>\n",
       "    <tr>\n",
       "      <th>0</th>\n",
       "      <td>Month 9</td>\n",
       "      <td>895.163265</td>\n",
       "      <td>-36.645408</td>\n",
       "    </tr>\n",
       "    <tr>\n",
       "      <th>1</th>\n",
       "      <td>Month 2</td>\n",
       "      <td>876.556863</td>\n",
       "      <td>-51.058824</td>\n",
       "    </tr>\n",
       "    <tr>\n",
       "      <th>2</th>\n",
       "      <td>Month 10</td>\n",
       "      <td>870.206278</td>\n",
       "      <td>-37.103139</td>\n",
       "    </tr>\n",
       "    <tr>\n",
       "      <th>3</th>\n",
       "      <td>Month 3</td>\n",
       "      <td>866.931818</td>\n",
       "      <td>-54.663961</td>\n",
       "    </tr>\n",
       "    <tr>\n",
       "      <th>4</th>\n",
       "      <td>Month 8</td>\n",
       "      <td>854.340517</td>\n",
       "      <td>-35.530172</td>\n",
       "    </tr>\n",
       "    <tr>\n",
       "      <th>5</th>\n",
       "      <td>Month 1</td>\n",
       "      <td>847.127572</td>\n",
       "      <td>-46.300412</td>\n",
       "    </tr>\n",
       "    <tr>\n",
       "      <th>6</th>\n",
       "      <td>Month 11</td>\n",
       "      <td>835.708333</td>\n",
       "      <td>-38.523013</td>\n",
       "    </tr>\n",
       "    <tr>\n",
       "      <th>7</th>\n",
       "      <td>Month 12</td>\n",
       "      <td>824.415179</td>\n",
       "      <td>-41.810268</td>\n",
       "    </tr>\n",
       "    <tr>\n",
       "      <th>8</th>\n",
       "      <td>Month 4</td>\n",
       "      <td>798.242138</td>\n",
       "      <td>-53.199686</td>\n",
       "    </tr>\n",
       "    <tr>\n",
       "      <th>9</th>\n",
       "      <td>Month 7</td>\n",
       "      <td>777.782427</td>\n",
       "      <td>-36.736402</td>\n",
       "    </tr>\n",
       "    <tr>\n",
       "      <th>10</th>\n",
       "      <td>Month 5</td>\n",
       "      <td>736.388112</td>\n",
       "      <td>-46.117133</td>\n",
       "    </tr>\n",
       "    <tr>\n",
       "      <th>11</th>\n",
       "      <td>Month 6</td>\n",
       "      <td>728.823308</td>\n",
       "      <td>-39.830827</td>\n",
       "    </tr>\n",
       "  </tbody>\n",
       "</table>\n",
       "</div>"
      ],
      "text/plain": [
       "   Martian month  avg_pressure   avg_temp\n",
       "0        Month 9    895.163265 -36.645408\n",
       "1        Month 2    876.556863 -51.058824\n",
       "2       Month 10    870.206278 -37.103139\n",
       "3        Month 3    866.931818 -54.663961\n",
       "4        Month 8    854.340517 -35.530172\n",
       "5        Month 1    847.127572 -46.300412\n",
       "6       Month 11    835.708333 -38.523013\n",
       "7       Month 12    824.415179 -41.810268\n",
       "8        Month 4    798.242138 -53.199686\n",
       "9        Month 7    777.782427 -36.736402\n",
       "10       Month 5    736.388112 -46.117133\n",
       "11       Month 6    728.823308 -39.830827"
      ]
     },
     "execution_count": 11,
     "metadata": {},
     "output_type": "execute_result"
    }
   ],
   "source": [
    "# query collection for average pressure and temp per season\n",
    "data = collection.aggregate([\n",
    "    {\"$project\": {\"season\": 1, \"pressure\": 1, \"avg_temp\": {\"$avg\": [\"$min_temp\", \"$max_temp\"]}}},\n",
    "    {\"$group\": {\"_id\": \"$season\", \"avg_pressure\": {\"$avg\": \"$pressure\"}, \"avg_temp\": {\"$avg\": \"$avg_temp\"}}},\n",
    "    {\"$sort\": {\"avg_pressure\": -1}}\n",
    "])\n",
    "\n",
    "# create a dataframe from the data\n",
    "df = pd.DataFrame(data)\n",
    "\n",
    "# rename the _id column to Month\n",
    "df.rename(columns={\"_id\": \"Martian month\"}, inplace=True)\n",
    "\n",
    "# show df\n",
    "df.head(100)"
   ]
  },
  {
   "attachments": {},
   "cell_type": "markdown",
   "metadata": {},
   "source": [
    "### Q10. What is the highest difference in pressure recorded on Mars?"
   ]
  },
  {
   "cell_type": "code",
   "execution_count": 12,
   "metadata": {},
   "outputs": [
    {
     "name": "stdout",
     "output_type": "stream",
     "text": [
      "   max_pressure  min_pressure  largest_pressure_diff\n",
      "0           925           702                    223\n",
      "\n",
      "The largest difference in atmospheric pressure recorded on Mars is 223 Pa.\n"
     ]
    }
   ],
   "source": [
    "# query collection for highest and lowest pressure and the difference between them\n",
    "data = collection.aggregate([\n",
    "    {\"$project\": {\"pressure\": 1}},\n",
    "    {\"$group\": {\"_id\": None, \"max_pressure\": {\"$max\": \"$pressure\"}, \"min_pressure\": {\"$min\": \"$pressure\"}}},\n",
    "    {\"$addFields\": {\"largest_pressure_diff\": {\"$subtract\": [\"$max_pressure\", \"$min_pressure\"]}}}\n",
    "])\n",
    "\n",
    "# create a dataframe from the data\n",
    "df = pd.DataFrame(data).drop(columns=[\"_id\"])\n",
    "\n",
    "# show df\n",
    "print(df.head())\n",
    "\n",
    "# print the largest pressure difference\n",
    "print(\"\\nThe largest difference in atmospheric pressure recorded on Mars is \" + str(df[\"largest_pressure_diff\"][0]) + \" Pa.\")\n"
   ]
  },
  {
   "attachments": {},
   "cell_type": "markdown",
   "metadata": {},
   "source": [
    "## Visualization"
   ]
  },
  {
   "attachments": {},
   "cell_type": "markdown",
   "metadata": {},
   "source": [
    "### Plot for Q9"
   ]
  },
  {
   "cell_type": "code",
   "execution_count": 13,
   "metadata": {},
   "outputs": [
    {
     "data": {
      "text/html": [
       "<div>\n",
       "<style scoped>\n",
       "    .dataframe tbody tr th:only-of-type {\n",
       "        vertical-align: middle;\n",
       "    }\n",
       "\n",
       "    .dataframe tbody tr th {\n",
       "        vertical-align: top;\n",
       "    }\n",
       "\n",
       "    .dataframe thead th {\n",
       "        text-align: right;\n",
       "    }\n",
       "</style>\n",
       "<table border=\"1\" class=\"dataframe\">\n",
       "  <thead>\n",
       "    <tr style=\"text-align: right;\">\n",
       "      <th></th>\n",
       "      <th>Martian month</th>\n",
       "      <th>avg_pressure</th>\n",
       "      <th>avg_temp</th>\n",
       "      <th>month_num</th>\n",
       "    </tr>\n",
       "  </thead>\n",
       "  <tbody>\n",
       "    <tr>\n",
       "      <th>5</th>\n",
       "      <td>Month 1</td>\n",
       "      <td>847.127572</td>\n",
       "      <td>-46.300412</td>\n",
       "      <td>1</td>\n",
       "    </tr>\n",
       "    <tr>\n",
       "      <th>1</th>\n",
       "      <td>Month 2</td>\n",
       "      <td>876.556863</td>\n",
       "      <td>-51.058824</td>\n",
       "      <td>2</td>\n",
       "    </tr>\n",
       "    <tr>\n",
       "      <th>3</th>\n",
       "      <td>Month 3</td>\n",
       "      <td>866.931818</td>\n",
       "      <td>-54.663961</td>\n",
       "      <td>3</td>\n",
       "    </tr>\n",
       "    <tr>\n",
       "      <th>8</th>\n",
       "      <td>Month 4</td>\n",
       "      <td>798.242138</td>\n",
       "      <td>-53.199686</td>\n",
       "      <td>4</td>\n",
       "    </tr>\n",
       "    <tr>\n",
       "      <th>10</th>\n",
       "      <td>Month 5</td>\n",
       "      <td>736.388112</td>\n",
       "      <td>-46.117133</td>\n",
       "      <td>5</td>\n",
       "    </tr>\n",
       "    <tr>\n",
       "      <th>11</th>\n",
       "      <td>Month 6</td>\n",
       "      <td>728.823308</td>\n",
       "      <td>-39.830827</td>\n",
       "      <td>6</td>\n",
       "    </tr>\n",
       "    <tr>\n",
       "      <th>9</th>\n",
       "      <td>Month 7</td>\n",
       "      <td>777.782427</td>\n",
       "      <td>-36.736402</td>\n",
       "      <td>7</td>\n",
       "    </tr>\n",
       "    <tr>\n",
       "      <th>4</th>\n",
       "      <td>Month 8</td>\n",
       "      <td>854.340517</td>\n",
       "      <td>-35.530172</td>\n",
       "      <td>8</td>\n",
       "    </tr>\n",
       "    <tr>\n",
       "      <th>0</th>\n",
       "      <td>Month 9</td>\n",
       "      <td>895.163265</td>\n",
       "      <td>-36.645408</td>\n",
       "      <td>9</td>\n",
       "    </tr>\n",
       "    <tr>\n",
       "      <th>2</th>\n",
       "      <td>Month 10</td>\n",
       "      <td>870.206278</td>\n",
       "      <td>-37.103139</td>\n",
       "      <td>10</td>\n",
       "    </tr>\n",
       "    <tr>\n",
       "      <th>6</th>\n",
       "      <td>Month 11</td>\n",
       "      <td>835.708333</td>\n",
       "      <td>-38.523013</td>\n",
       "      <td>11</td>\n",
       "    </tr>\n",
       "    <tr>\n",
       "      <th>7</th>\n",
       "      <td>Month 12</td>\n",
       "      <td>824.415179</td>\n",
       "      <td>-41.810268</td>\n",
       "      <td>12</td>\n",
       "    </tr>\n",
       "  </tbody>\n",
       "</table>\n",
       "</div>"
      ],
      "text/plain": [
       "   Martian month  avg_pressure   avg_temp  month_num\n",
       "5        Month 1    847.127572 -46.300412          1\n",
       "1        Month 2    876.556863 -51.058824          2\n",
       "3        Month 3    866.931818 -54.663961          3\n",
       "8        Month 4    798.242138 -53.199686          4\n",
       "10       Month 5    736.388112 -46.117133          5\n",
       "11       Month 6    728.823308 -39.830827          6\n",
       "9        Month 7    777.782427 -36.736402          7\n",
       "4        Month 8    854.340517 -35.530172          8\n",
       "0        Month 9    895.163265 -36.645408          9\n",
       "2       Month 10    870.206278 -37.103139         10\n",
       "6       Month 11    835.708333 -38.523013         11\n",
       "7       Month 12    824.415179 -41.810268         12"
      ]
     },
     "execution_count": 13,
     "metadata": {},
     "output_type": "execute_result"
    }
   ],
   "source": [
    "# query Q9\n",
    "data = collection.aggregate([\n",
    "    {\"$project\": {\"season\": 1, \"pressure\": 1, \"avg_temp\": {\"$avg\": [\"$min_temp\", \"$max_temp\"]}}},\n",
    "    {\"$group\": {\"_id\": \"$season\", \"avg_pressure\": {\"$avg\": \"$pressure\"}, \"avg_temp\": {\"$avg\": \"$avg_temp\"}}},\n",
    "    {\"$sort\": {\"avg_pressure\": -1}}\n",
    "])\n",
    "\n",
    "# create a dataframe from the data\n",
    "df = pd.DataFrame(data)\n",
    "\n",
    "# rename the _id column to Month\n",
    "df.rename(columns={\"_id\": \"Martian month\"}, inplace=True)\n",
    "\n",
    "# create column for month number based on part Martian month after \"Month \"\n",
    "df[\"month_num\"] = df[\"Martian month\"].str.split(\" \").str[1]\n",
    "\n",
    "# convert month_num to int and sort by month_num\n",
    "df[\"month_num\"] = df[\"month_num\"].astype(int)\n",
    "df.sort_values(by=\"month_num\", inplace=True)\n",
    "\n",
    "# show df\n",
    "df.head(100)"
   ]
  },
  {
   "cell_type": "code",
   "execution_count": 14,
   "metadata": {},
   "outputs": [
    {
     "data": {
      "application/vnd.plotly.v1+json": {
       "config": {
        "plotlyServerURL": "https://plot.ly"
       },
       "data": [
        {
         "name": "Average Pressure",
         "type": "scatter",
         "x": [
          "Month 1",
          "Month 2",
          "Month 3",
          "Month 4",
          "Month 5",
          "Month 6",
          "Month 7",
          "Month 8",
          "Month 9",
          "Month 10",
          "Month 11",
          "Month 12"
         ],
         "xaxis": "x",
         "y": [
          847.1275720164609,
          876.556862745098,
          866.9318181818181,
          798.2421383647799,
          736.3881118881119,
          728.8233082706766,
          777.7824267782427,
          854.3405172413793,
          895.1632653061224,
          870.2062780269058,
          835.7083333333334,
          824.4151785714286
         ],
         "yaxis": "y"
        },
        {
         "name": "Average Temperature",
         "type": "scatter",
         "x": [
          "Month 1",
          "Month 2",
          "Month 3",
          "Month 4",
          "Month 5",
          "Month 6",
          "Month 7",
          "Month 8",
          "Month 9",
          "Month 10",
          "Month 11",
          "Month 12"
         ],
         "xaxis": "x2",
         "y": [
          -46.300411522633745,
          -51.05882352941177,
          -54.66396103896104,
          -53.1996855345912,
          -46.11713286713287,
          -39.830827067669176,
          -36.73640167364017,
          -35.5301724137931,
          -36.64540816326531,
          -37.10313901345292,
          -38.52301255230125,
          -41.810267857142854
         ],
         "yaxis": "y2"
        }
       ],
       "layout": {
        "annotations": [
         {
          "font": {
           "size": 16
          },
          "showarrow": false,
          "text": "Average Pressure",
          "x": 0.5,
          "xanchor": "center",
          "xref": "paper",
          "y": 1,
          "yanchor": "bottom",
          "yref": "paper"
         },
         {
          "font": {
           "size": 16
          },
          "showarrow": false,
          "text": "Average Temperature",
          "x": 0.5,
          "xanchor": "center",
          "xref": "paper",
          "y": 0.475,
          "yanchor": "bottom",
          "yref": "paper"
         }
        ],
        "height": 600,
        "template": {
         "data": {
          "bar": [
           {
            "error_x": {
             "color": "#2a3f5f"
            },
            "error_y": {
             "color": "#2a3f5f"
            },
            "marker": {
             "line": {
              "color": "#E5ECF6",
              "width": 0.5
             },
             "pattern": {
              "fillmode": "overlay",
              "size": 10,
              "solidity": 0.2
             }
            },
            "type": "bar"
           }
          ],
          "barpolar": [
           {
            "marker": {
             "line": {
              "color": "#E5ECF6",
              "width": 0.5
             },
             "pattern": {
              "fillmode": "overlay",
              "size": 10,
              "solidity": 0.2
             }
            },
            "type": "barpolar"
           }
          ],
          "carpet": [
           {
            "aaxis": {
             "endlinecolor": "#2a3f5f",
             "gridcolor": "white",
             "linecolor": "white",
             "minorgridcolor": "white",
             "startlinecolor": "#2a3f5f"
            },
            "baxis": {
             "endlinecolor": "#2a3f5f",
             "gridcolor": "white",
             "linecolor": "white",
             "minorgridcolor": "white",
             "startlinecolor": "#2a3f5f"
            },
            "type": "carpet"
           }
          ],
          "choropleth": [
           {
            "colorbar": {
             "outlinewidth": 0,
             "ticks": ""
            },
            "type": "choropleth"
           }
          ],
          "contour": [
           {
            "colorbar": {
             "outlinewidth": 0,
             "ticks": ""
            },
            "colorscale": [
             [
              0,
              "#0d0887"
             ],
             [
              0.1111111111111111,
              "#46039f"
             ],
             [
              0.2222222222222222,
              "#7201a8"
             ],
             [
              0.3333333333333333,
              "#9c179e"
             ],
             [
              0.4444444444444444,
              "#bd3786"
             ],
             [
              0.5555555555555556,
              "#d8576b"
             ],
             [
              0.6666666666666666,
              "#ed7953"
             ],
             [
              0.7777777777777778,
              "#fb9f3a"
             ],
             [
              0.8888888888888888,
              "#fdca26"
             ],
             [
              1,
              "#f0f921"
             ]
            ],
            "type": "contour"
           }
          ],
          "contourcarpet": [
           {
            "colorbar": {
             "outlinewidth": 0,
             "ticks": ""
            },
            "type": "contourcarpet"
           }
          ],
          "heatmap": [
           {
            "colorbar": {
             "outlinewidth": 0,
             "ticks": ""
            },
            "colorscale": [
             [
              0,
              "#0d0887"
             ],
             [
              0.1111111111111111,
              "#46039f"
             ],
             [
              0.2222222222222222,
              "#7201a8"
             ],
             [
              0.3333333333333333,
              "#9c179e"
             ],
             [
              0.4444444444444444,
              "#bd3786"
             ],
             [
              0.5555555555555556,
              "#d8576b"
             ],
             [
              0.6666666666666666,
              "#ed7953"
             ],
             [
              0.7777777777777778,
              "#fb9f3a"
             ],
             [
              0.8888888888888888,
              "#fdca26"
             ],
             [
              1,
              "#f0f921"
             ]
            ],
            "type": "heatmap"
           }
          ],
          "heatmapgl": [
           {
            "colorbar": {
             "outlinewidth": 0,
             "ticks": ""
            },
            "colorscale": [
             [
              0,
              "#0d0887"
             ],
             [
              0.1111111111111111,
              "#46039f"
             ],
             [
              0.2222222222222222,
              "#7201a8"
             ],
             [
              0.3333333333333333,
              "#9c179e"
             ],
             [
              0.4444444444444444,
              "#bd3786"
             ],
             [
              0.5555555555555556,
              "#d8576b"
             ],
             [
              0.6666666666666666,
              "#ed7953"
             ],
             [
              0.7777777777777778,
              "#fb9f3a"
             ],
             [
              0.8888888888888888,
              "#fdca26"
             ],
             [
              1,
              "#f0f921"
             ]
            ],
            "type": "heatmapgl"
           }
          ],
          "histogram": [
           {
            "marker": {
             "pattern": {
              "fillmode": "overlay",
              "size": 10,
              "solidity": 0.2
             }
            },
            "type": "histogram"
           }
          ],
          "histogram2d": [
           {
            "colorbar": {
             "outlinewidth": 0,
             "ticks": ""
            },
            "colorscale": [
             [
              0,
              "#0d0887"
             ],
             [
              0.1111111111111111,
              "#46039f"
             ],
             [
              0.2222222222222222,
              "#7201a8"
             ],
             [
              0.3333333333333333,
              "#9c179e"
             ],
             [
              0.4444444444444444,
              "#bd3786"
             ],
             [
              0.5555555555555556,
              "#d8576b"
             ],
             [
              0.6666666666666666,
              "#ed7953"
             ],
             [
              0.7777777777777778,
              "#fb9f3a"
             ],
             [
              0.8888888888888888,
              "#fdca26"
             ],
             [
              1,
              "#f0f921"
             ]
            ],
            "type": "histogram2d"
           }
          ],
          "histogram2dcontour": [
           {
            "colorbar": {
             "outlinewidth": 0,
             "ticks": ""
            },
            "colorscale": [
             [
              0,
              "#0d0887"
             ],
             [
              0.1111111111111111,
              "#46039f"
             ],
             [
              0.2222222222222222,
              "#7201a8"
             ],
             [
              0.3333333333333333,
              "#9c179e"
             ],
             [
              0.4444444444444444,
              "#bd3786"
             ],
             [
              0.5555555555555556,
              "#d8576b"
             ],
             [
              0.6666666666666666,
              "#ed7953"
             ],
             [
              0.7777777777777778,
              "#fb9f3a"
             ],
             [
              0.8888888888888888,
              "#fdca26"
             ],
             [
              1,
              "#f0f921"
             ]
            ],
            "type": "histogram2dcontour"
           }
          ],
          "mesh3d": [
           {
            "colorbar": {
             "outlinewidth": 0,
             "ticks": ""
            },
            "type": "mesh3d"
           }
          ],
          "parcoords": [
           {
            "line": {
             "colorbar": {
              "outlinewidth": 0,
              "ticks": ""
             }
            },
            "type": "parcoords"
           }
          ],
          "pie": [
           {
            "automargin": true,
            "type": "pie"
           }
          ],
          "scatter": [
           {
            "fillpattern": {
             "fillmode": "overlay",
             "size": 10,
             "solidity": 0.2
            },
            "type": "scatter"
           }
          ],
          "scatter3d": [
           {
            "line": {
             "colorbar": {
              "outlinewidth": 0,
              "ticks": ""
             }
            },
            "marker": {
             "colorbar": {
              "outlinewidth": 0,
              "ticks": ""
             }
            },
            "type": "scatter3d"
           }
          ],
          "scattercarpet": [
           {
            "marker": {
             "colorbar": {
              "outlinewidth": 0,
              "ticks": ""
             }
            },
            "type": "scattercarpet"
           }
          ],
          "scattergeo": [
           {
            "marker": {
             "colorbar": {
              "outlinewidth": 0,
              "ticks": ""
             }
            },
            "type": "scattergeo"
           }
          ],
          "scattergl": [
           {
            "marker": {
             "colorbar": {
              "outlinewidth": 0,
              "ticks": ""
             }
            },
            "type": "scattergl"
           }
          ],
          "scattermapbox": [
           {
            "marker": {
             "colorbar": {
              "outlinewidth": 0,
              "ticks": ""
             }
            },
            "type": "scattermapbox"
           }
          ],
          "scatterpolar": [
           {
            "marker": {
             "colorbar": {
              "outlinewidth": 0,
              "ticks": ""
             }
            },
            "type": "scatterpolar"
           }
          ],
          "scatterpolargl": [
           {
            "marker": {
             "colorbar": {
              "outlinewidth": 0,
              "ticks": ""
             }
            },
            "type": "scatterpolargl"
           }
          ],
          "scatterternary": [
           {
            "marker": {
             "colorbar": {
              "outlinewidth": 0,
              "ticks": ""
             }
            },
            "type": "scatterternary"
           }
          ],
          "surface": [
           {
            "colorbar": {
             "outlinewidth": 0,
             "ticks": ""
            },
            "colorscale": [
             [
              0,
              "#0d0887"
             ],
             [
              0.1111111111111111,
              "#46039f"
             ],
             [
              0.2222222222222222,
              "#7201a8"
             ],
             [
              0.3333333333333333,
              "#9c179e"
             ],
             [
              0.4444444444444444,
              "#bd3786"
             ],
             [
              0.5555555555555556,
              "#d8576b"
             ],
             [
              0.6666666666666666,
              "#ed7953"
             ],
             [
              0.7777777777777778,
              "#fb9f3a"
             ],
             [
              0.8888888888888888,
              "#fdca26"
             ],
             [
              1,
              "#f0f921"
             ]
            ],
            "type": "surface"
           }
          ],
          "table": [
           {
            "cells": {
             "fill": {
              "color": "#EBF0F8"
             },
             "line": {
              "color": "white"
             }
            },
            "header": {
             "fill": {
              "color": "#C8D4E3"
             },
             "line": {
              "color": "white"
             }
            },
            "type": "table"
           }
          ]
         },
         "layout": {
          "annotationdefaults": {
           "arrowcolor": "#2a3f5f",
           "arrowhead": 0,
           "arrowwidth": 1
          },
          "autotypenumbers": "strict",
          "coloraxis": {
           "colorbar": {
            "outlinewidth": 0,
            "ticks": ""
           }
          },
          "colorscale": {
           "diverging": [
            [
             0,
             "#8e0152"
            ],
            [
             0.1,
             "#c51b7d"
            ],
            [
             0.2,
             "#de77ae"
            ],
            [
             0.3,
             "#f1b6da"
            ],
            [
             0.4,
             "#fde0ef"
            ],
            [
             0.5,
             "#f7f7f7"
            ],
            [
             0.6,
             "#e6f5d0"
            ],
            [
             0.7,
             "#b8e186"
            ],
            [
             0.8,
             "#7fbc41"
            ],
            [
             0.9,
             "#4d9221"
            ],
            [
             1,
             "#276419"
            ]
           ],
           "sequential": [
            [
             0,
             "#0d0887"
            ],
            [
             0.1111111111111111,
             "#46039f"
            ],
            [
             0.2222222222222222,
             "#7201a8"
            ],
            [
             0.3333333333333333,
             "#9c179e"
            ],
            [
             0.4444444444444444,
             "#bd3786"
            ],
            [
             0.5555555555555556,
             "#d8576b"
            ],
            [
             0.6666666666666666,
             "#ed7953"
            ],
            [
             0.7777777777777778,
             "#fb9f3a"
            ],
            [
             0.8888888888888888,
             "#fdca26"
            ],
            [
             1,
             "#f0f921"
            ]
           ],
           "sequentialminus": [
            [
             0,
             "#0d0887"
            ],
            [
             0.1111111111111111,
             "#46039f"
            ],
            [
             0.2222222222222222,
             "#7201a8"
            ],
            [
             0.3333333333333333,
             "#9c179e"
            ],
            [
             0.4444444444444444,
             "#bd3786"
            ],
            [
             0.5555555555555556,
             "#d8576b"
            ],
            [
             0.6666666666666666,
             "#ed7953"
            ],
            [
             0.7777777777777778,
             "#fb9f3a"
            ],
            [
             0.8888888888888888,
             "#fdca26"
            ],
            [
             1,
             "#f0f921"
            ]
           ]
          },
          "colorway": [
           "#636efa",
           "#EF553B",
           "#00cc96",
           "#ab63fa",
           "#FFA15A",
           "#19d3f3",
           "#FF6692",
           "#B6E880",
           "#FF97FF",
           "#FECB52"
          ],
          "font": {
           "color": "#2a3f5f"
          },
          "geo": {
           "bgcolor": "white",
           "lakecolor": "white",
           "landcolor": "#E5ECF6",
           "showlakes": true,
           "showland": true,
           "subunitcolor": "white"
          },
          "hoverlabel": {
           "align": "left"
          },
          "hovermode": "closest",
          "mapbox": {
           "style": "light"
          },
          "paper_bgcolor": "white",
          "plot_bgcolor": "#E5ECF6",
          "polar": {
           "angularaxis": {
            "gridcolor": "white",
            "linecolor": "white",
            "ticks": ""
           },
           "bgcolor": "#E5ECF6",
           "radialaxis": {
            "gridcolor": "white",
            "linecolor": "white",
            "ticks": ""
           }
          },
          "scene": {
           "xaxis": {
            "backgroundcolor": "#E5ECF6",
            "gridcolor": "white",
            "gridwidth": 2,
            "linecolor": "white",
            "showbackground": true,
            "ticks": "",
            "zerolinecolor": "white"
           },
           "yaxis": {
            "backgroundcolor": "#E5ECF6",
            "gridcolor": "white",
            "gridwidth": 2,
            "linecolor": "white",
            "showbackground": true,
            "ticks": "",
            "zerolinecolor": "white"
           },
           "zaxis": {
            "backgroundcolor": "#E5ECF6",
            "gridcolor": "white",
            "gridwidth": 2,
            "linecolor": "white",
            "showbackground": true,
            "ticks": "",
            "zerolinecolor": "white"
           }
          },
          "shapedefaults": {
           "line": {
            "color": "#2a3f5f"
           }
          },
          "ternary": {
           "aaxis": {
            "gridcolor": "white",
            "linecolor": "white",
            "ticks": ""
           },
           "baxis": {
            "gridcolor": "white",
            "linecolor": "white",
            "ticks": ""
           },
           "bgcolor": "#E5ECF6",
           "caxis": {
            "gridcolor": "white",
            "linecolor": "white",
            "ticks": ""
           }
          },
          "title": {
           "x": 0.05
          },
          "xaxis": {
           "automargin": true,
           "gridcolor": "white",
           "linecolor": "white",
           "ticks": "",
           "title": {
            "standoff": 15
           },
           "zerolinecolor": "white",
           "zerolinewidth": 2
          },
          "yaxis": {
           "automargin": true,
           "gridcolor": "white",
           "linecolor": "white",
           "ticks": "",
           "title": {
            "standoff": 15
           },
           "zerolinecolor": "white",
           "zerolinewidth": 2
          }
         }
        },
        "title": {
         "text": "Average Pressure and Temperature on Mars by Martian Month"
        },
        "width": 800,
        "xaxis": {
         "anchor": "y",
         "domain": [
          0,
          1
         ],
         "matches": "x2",
         "showticklabels": false
        },
        "xaxis2": {
         "anchor": "y2",
         "domain": [
          0,
          1
         ]
        },
        "yaxis": {
         "anchor": "x",
         "domain": [
          0.525,
          1
         ]
        },
        "yaxis2": {
         "anchor": "x2",
         "domain": [
          0,
          0.475
         ]
        }
       }
      }
     },
     "metadata": {},
     "output_type": "display_data"
    }
   ],
   "source": [
    "# make subplots\n",
    "fig = make_subplots(rows=2, cols=1, shared_xaxes=True, vertical_spacing=0.05, subplot_titles=(\"Average Pressure\", \"Average Temperature\"))\n",
    "\n",
    "# add traces\n",
    "fig.add_trace(go.Scatter(x=df[\"Martian month\"], y=df[\"avg_pressure\"], name=\"Average Pressure\"), row=1, col=1)\n",
    "\n",
    "fig.add_trace(go.Scatter(x=df[\"Martian month\"], y=df[\"avg_temp\"], name=\"Average Temperature\"), row=2, col=1)\n",
    "\n",
    "# update layout\n",
    "fig.update_layout(height=600, width=800, title_text=\"Average Pressure and Temperature on Mars by Martian Month\")\n",
    "\n",
    "# show figure\n",
    "fig.show()\n"
   ]
  },
  {
   "attachments": {},
   "cell_type": "markdown",
   "metadata": {},
   "source": [
    "### Interpretation"
   ]
  },
  {
   "attachments": {},
   "cell_type": "markdown",
   "metadata": {},
   "source": [
    "This plot shows the average pressure and temperature over each Martian month. The correlation between the Martian month and pressure demonstrates a cyclical pattern. The correlation between the Martian month and temperature demonstrates similar cyclical patterns, but with a larger \"wavelength\" than the pressure. The temperature decreases and increases more slowly throughout a Martian year than the pressure. Eariler in the Martian year, the temperature and pressure are negatively correlated, however, later in the Martian year, the temperature and pressure become positively correlated, as pressure increases more rapidly than temperature. This probably has to do with how the data is collected by the Curiosity rover. The rover is likely to be more active during the warmer months, and less active during the colder months. This would explain why the pressure and temperature are more correlated later in the Martian year."
   ]
  }
 ],
 "metadata": {
  "kernelspec": {
   "display_name": "base",
   "language": "python",
   "name": "python3"
  },
  "language_info": {
   "codemirror_mode": {
    "name": "ipython",
    "version": 3
   },
   "file_extension": ".py",
   "mimetype": "text/x-python",
   "name": "python",
   "nbconvert_exporter": "python",
   "pygments_lexer": "ipython3",
   "version": "3.9.7"
  },
  "orig_nbformat": 4,
  "vscode": {
   "interpreter": {
    "hash": "3ae5dd81b9beee44f0777327b6fc03b59b2c05f9db8345977f42ebbaf281aeb5"
   }
  }
 },
 "nbformat": 4,
 "nbformat_minor": 2
}
